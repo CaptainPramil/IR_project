{
  "nbformat": 4,
  "nbformat_minor": 0,
  "metadata": {
    "colab": {
      "name": "IR Project_Visual",
      "provenance": []
    },
    "kernelspec": {
      "name": "python3",
      "display_name": "Python 3"
    }
  },
  "cells": [
    {
      "cell_type": "code",
      "metadata": {
        "colab": {
          "base_uri": "https://localhost:8080/"
        },
        "id": "OoOQc70j46lb",
        "outputId": "d986126a-0734-407d-8650-6b3c22894c64"
      },
      "source": [
        "!pip install emoji"
      ],
      "execution_count": 1,
      "outputs": [
        {
          "output_type": "stream",
          "text": [
            "Collecting emoji\n",
            "\u001b[?25l  Downloading https://files.pythonhosted.org/packages/24/fa/b3368f41b95a286f8d300e323449ab4e86b85334c2e0b477e94422b8ed0f/emoji-1.2.0-py3-none-any.whl (131kB)\n",
            "\r\u001b[K     |██▌                             | 10kB 13.9MB/s eta 0:00:01\r\u001b[K     |█████                           | 20kB 19.0MB/s eta 0:00:01\r\u001b[K     |███████▌                        | 30kB 13.1MB/s eta 0:00:01\r\u001b[K     |██████████                      | 40kB 9.2MB/s eta 0:00:01\r\u001b[K     |████████████▌                   | 51kB 5.7MB/s eta 0:00:01\r\u001b[K     |███████████████                 | 61kB 6.6MB/s eta 0:00:01\r\u001b[K     |█████████████████▌              | 71kB 7.4MB/s eta 0:00:01\r\u001b[K     |████████████████████            | 81kB 8.2MB/s eta 0:00:01\r\u001b[K     |██████████████████████▌         | 92kB 8.8MB/s eta 0:00:01\r\u001b[K     |█████████████████████████       | 102kB 7.9MB/s eta 0:00:01\r\u001b[K     |███████████████████████████▌    | 112kB 7.9MB/s eta 0:00:01\r\u001b[K     |██████████████████████████████  | 122kB 7.9MB/s eta 0:00:01\r\u001b[K     |████████████████████████████████| 133kB 7.9MB/s \n",
            "\u001b[?25hInstalling collected packages: emoji\n",
            "Successfully installed emoji-1.2.0\n"
          ],
          "name": "stdout"
        }
      ]
    },
    {
      "cell_type": "code",
      "metadata": {
        "id": "oql61eOK8klU"
      },
      "source": [
        "import json\n",
        "import pandas as pd\n",
        "import regex as re\n",
        "import emoji\n",
        "from PIL import Image,ImageStat\n",
        "import requests\n",
        "import cv2\n",
        "import numpy as np\n"
      ],
      "execution_count": null,
      "outputs": []
    },
    {
      "cell_type": "code",
      "metadata": {
        "id": "2JuXNLuwAAgr"
      },
      "source": [
        "path='/content/drive/MyDrive/4th_Sem/IR/Project/labeled_less/positive_less/data_less/timeline_less/Bubbadharmacreated_at1629133740.json'\n",
        "data = pd.read_json(path,lines=True)"
      ],
      "execution_count": null,
      "outputs": []
    },
    {
      "cell_type": "code",
      "metadata": {
        "colab": {
          "base_uri": "https://localhost:8080/"
        },
        "id": "JkaxvNVlKzMf",
        "outputId": "f9f77931-860b-4424-ec1f-4543c901512a"
      },
      "source": [
        "text=data['text']\n",
        "print(text)"
      ],
      "execution_count": null,
      "outputs": [
        {
          "output_type": "stream",
          "text": [
            "0     @EmperorNorton  I have been diagnosed as Major...\n",
            "1     @marcyrubin and @EmperorNorton I too am search...\n",
            "2     @EmperorNorton Yes! That right, to my Zen teac...\n",
            "3     I just found all the twitter apps a person sho...\n",
            "4     I just woke up from a 15 hour nap. I'm not kid...\n",
            "5     Thinking of the 3 tags I use to describe me; B...\n",
            "6     It does steal the sun. Agoraphobia means \"fear...\n",
            "7     From http://www.rebeccacutlerfoundation.org/re...\n",
            "8     @MarcyRubin Heh, actually LOLed at your tweet....\n",
            "9     @MarcyRubin  True, wasn't a GOOD job, tho',. A...\n",
            "10    If you live in DFW area and you are reading th...\n",
            "11    @MarcyRubin Once had a date coming & \"redecora...\n",
            "12    @clockner I don't count - twitter does  it for...\n",
            "13    @ELLENSHOW Ellen  is the 1  tweeter  that seem...\n",
            "14    @MarcyRubin Hi Marcy. I am getting a \"page not...\n",
            "15    @clockner Biggest challenge for me is the 140 ...\n",
            "16    @clockner Me too, Clint. .Enjoy following arti...\n",
            "17    Saw doc today - blood pressure, pulse are near...\n",
            "18    hmm, let me try that again....great mental hea...\n",
            "19    am getting great mental health info via@ow_men...\n",
            "20    that we are so morbidly indebted to this monst...\n",
            "21    YARGH, let it go, let it go. letting it go doe...\n",
            "22    http://tinyurl.com/co3f35 - using Buddhism to ...\n",
            "23    What China has/is doing to undermine Dalai and...\n",
            "24    Just added myself to the http://wefollow.com t...\n",
            "25    I am moved.mostly have to stay and help sis ou...\n",
            "26    avoiding sleep. tomorrow is the big move. I am...\n",
            "27    I can not get Twitter to verify my phone. Sinc...\n",
            "28    @agallerylondon to me it's similar to entering...\n",
            "29    @ELLENSHOW what did you think of Whoopi's fash...\n",
            "30    @ELLENSHOW  What do you think of whoopi's fash...\n",
            "31                   changed my username to Bubbadharma\n",
            "32    I am at the beginning of a new major cycle in ...\n",
            "33    My 1st tweet! now packing my scattered belongi...\n",
            "34    My 1st tweet! now packing my scattered belongi...\n",
            "Name: text, dtype: object\n"
          ],
          "name": "stdout"
        }
      ]
    },
    {
      "cell_type": "code",
      "metadata": {
        "colab": {
          "base_uri": "https://localhost:8080/"
        },
        "id": "Hc5P81Y95SeC",
        "outputId": "1936d36e-e710-499a-f963-2667148d4031"
      },
      "source": [
        "date=data['created_at']\n",
        "print(date)"
      ],
      "execution_count": null,
      "outputs": [
        {
          "output_type": "stream",
          "text": [
            "0    2009-04-06 08:46:45+00:00\n",
            "1    2009-04-06 08:44:30+00:00\n",
            "2    2009-04-06 08:41:31+00:00\n",
            "3    2009-04-06 08:30:50+00:00\n",
            "4    2009-04-06 08:25:15+00:00\n",
            "5    2009-04-06 08:23:11+00:00\n",
            "6    2009-04-05 07:29:29+00:00\n",
            "7    2009-04-05 07:18:14+00:00\n",
            "8    2009-04-05 06:08:40+00:00\n",
            "9    2009-04-04 22:51:38+00:00\n",
            "10   2009-04-04 22:04:48+00:00\n",
            "11   2009-04-04 22:03:08+00:00\n",
            "12   2009-04-04 05:39:24+00:00\n",
            "13   2009-04-03 02:32:00+00:00\n",
            "14   2009-04-03 02:19:04+00:00\n",
            "15   2009-04-02 04:49:05+00:00\n",
            "16   2009-04-02 04:45:56+00:00\n",
            "17   2009-04-01 18:02:58+00:00\n",
            "18   2009-04-01 04:53:14+00:00\n",
            "19   2009-04-01 04:49:13+00:00\n",
            "20   2009-03-31 23:12:47+00:00\n",
            "21   2009-03-31 23:08:15+00:00\n",
            "22   2009-03-31 22:54:50+00:00\n",
            "23   2009-03-31 22:47:00+00:00\n",
            "24   2009-03-31 22:25:27+00:00\n",
            "25   2009-03-27 03:16:28+00:00\n",
            "26   2009-03-24 05:29:07+00:00\n",
            "27   2009-03-22 19:03:20+00:00\n",
            "28   2009-03-22 09:58:33+00:00\n",
            "29   2009-03-22 09:52:53+00:00\n",
            "30   2009-03-22 05:21:05+00:00\n",
            "31   2009-03-20 02:32:01+00:00\n",
            "32   2009-03-20 00:28:41+00:00\n",
            "33   2009-03-20 00:24:34+00:00\n",
            "34   2009-03-20 00:24:34+00:00\n",
            "Name: created_at, dtype: datetime64[ns, UTC]\n"
          ],
          "name": "stdout"
        }
      ]
    },
    {
      "cell_type": "code",
      "metadata": {
        "id": "n8TjgmnhRE6y"
      },
      "source": [
        "def get_emojis(s):\n",
        "  orig_list = [s]\n",
        "  emojis_iter = map(lambda y: y, emoji.UNICODE_EMOJI['en'].keys())\n",
        "  regex_set = re.compile('|'.join(re.escape(em) for em in emojis_iter))\n",
        "  new_list = regex_set.findall(orig_list[0])\n",
        "  return new_list\n",
        "  "
      ],
      "execution_count": null,
      "outputs": []
    },
    {
      "cell_type": "code",
      "metadata": {
        "colab": {
          "base_uri": "https://localhost:8080/"
        },
        "id": "NV59HTpiPkmT",
        "outputId": "e4b99116-96e1-4911-cafb-f43fa4bd7e4d"
      },
      "source": [
        "s=get_emojis(text[0])\n",
        "s"
      ],
      "execution_count": null,
      "outputs": [
        {
          "output_type": "execute_result",
          "data": {
            "text/plain": [
              "[]"
            ]
          },
          "metadata": {
            "tags": []
          },
          "execution_count": 7
        }
      ]
    },
    {
      "cell_type": "code",
      "metadata": {
        "colab": {
          "base_uri": "https://localhost:8080/",
          "height": 35
        },
        "id": "yUp_Me4uVCNg",
        "outputId": "a32454f8-9f06-4d19-e442-aaa017c9787d"
      },
      "source": [
        "def get_text(s):\n",
        "    emoji_pattern = re.compile(\"[\"\n",
        "                           u\"\\U0001F600-\\U0001F64F\"  # emoticons\n",
        "                           u\"\\U0001F300-\\U0001F5FF\"  # symbols & pictographs\n",
        "                           u\"\\U0001F680-\\U0001F6FF\"  # transport & map symbols\n",
        "                           u\"\\U0001F1E0-\\U0001F1FF\"  # flags (iOS)\n",
        "                           u\"\\U00002702-\\U000027B0\"\n",
        "                           u\"\\U000024C2-\\U0001F251\"\n",
        "                           \"]+\", flags=re.UNICODE)\n",
        "    return emoji_pattern.sub(r'', s)\n",
        "\n",
        "s=get_text(text[0])\n",
        "s"
      ],
      "execution_count": null,
      "outputs": [
        {
          "output_type": "execute_result",
          "data": {
            "application/vnd.google.colaboratory.intrinsic+json": {
              "type": "string"
            },
            "text/plain": [
              "'@EmperorNorton  I have been diagnosed as Major Depression until 4 years ago.LUckily I got a bp therapist who recognized it right away.'"
            ]
          },
          "metadata": {
            "tags": []
          },
          "execution_count": 8
        }
      ]
    },
    {
      "cell_type": "code",
      "metadata": {
        "colab": {
          "base_uri": "https://localhost:8080/"
        },
        "id": "DaIPmOHz2lZg",
        "outputId": "8973a0bb-5660-48f5-c66c-0ec0b33e0e0e"
      },
      "source": [
        "user_data=data['user']\n",
        "user_data[0]"
      ],
      "execution_count": null,
      "outputs": [
        {
          "output_type": "execute_result",
          "data": {
            "text/plain": [
              "{'contributors_enabled': False,\n",
              " 'created_at': 'Fri Feb 27 06:33:55 +0000 2009',\n",
              " 'default_profile': False,\n",
              " 'default_profile_image': False,\n",
              " 'description': 'Madness, Malas and Meditation in Dallas',\n",
              " 'entities': {'description': {'urls': []}},\n",
              " 'favourites_count': 25,\n",
              " 'follow_request_sent': False,\n",
              " 'followers_count': 232,\n",
              " 'following': False,\n",
              " 'friends_count': 565,\n",
              " 'geo_enabled': False,\n",
              " 'has_extended_profile': False,\n",
              " 'id': 22115490,\n",
              " 'id_str': '22115490',\n",
              " 'is_translation_enabled': False,\n",
              " 'is_translator': False,\n",
              " 'lang': 'en',\n",
              " 'listed_count': 17,\n",
              " 'location': 'Dallas',\n",
              " 'name': 'Bubbadharma',\n",
              " 'notifications': False,\n",
              " 'profile_background_color': '251810',\n",
              " 'profile_background_image_url': 'http://pbs.twimg.com/profile_background_images/686486341/1ee172be29a361a988f8e23c5f2ca192.jpeg',\n",
              " 'profile_background_image_url_https': 'https://pbs.twimg.com/profile_background_images/686486341/1ee172be29a361a988f8e23c5f2ca192.jpeg',\n",
              " 'profile_background_tile': False,\n",
              " 'profile_image_url': 'http://pbs.twimg.com/profile_images/2730595713/e3a6723933ebf1a2f6a036fdd91f34c1_normal.jpeg',\n",
              " 'profile_image_url_https': 'https://pbs.twimg.com/profile_images/2730595713/e3a6723933ebf1a2f6a036fdd91f34c1_normal.jpeg',\n",
              " 'profile_link_color': 'A98E6F',\n",
              " 'profile_sidebar_border_color': '94A4AE',\n",
              " 'profile_sidebar_fill_color': '1D110A',\n",
              " 'profile_text_color': '94A4AE',\n",
              " 'profile_use_background_image': True,\n",
              " 'protected': False,\n",
              " 'screen_name': 'Bubbadharma',\n",
              " 'statuses_count': 1396,\n",
              " 'time_zone': 'Central Time (US & Canada)',\n",
              " 'translator_type': 'none',\n",
              " 'url': None,\n",
              " 'utc_offset': -21600,\n",
              " 'verified': False}"
            ]
          },
          "metadata": {
            "tags": []
          },
          "execution_count": 10
        }
      ]
    },
    {
      "cell_type": "code",
      "metadata": {
        "id": "pNhpWYOu41Z4"
      },
      "source": [
        "im = Image.open(requests.get(user_data[0].get('profile_image_url'), stream=True).raw)"
      ],
      "execution_count": null,
      "outputs": []
    },
    {
      "cell_type": "code",
      "metadata": {
        "colab": {
          "base_uri": "https://localhost:8080/"
        },
        "id": "8cL6SvoT5JQg",
        "outputId": "30b8445b-09a8-47ba-a0f3-52f174a969ad"
      },
      "source": [
        "def get_brightness(im):\n",
        "   im = im.convert('L')\n",
        "   stat = ImageStat.Stat(im)\n",
        "   return stat.mean\n",
        "\n",
        "b=get_brightness(im)\n",
        "print(b)"
      ],
      "execution_count": null,
      "outputs": [
        {
          "output_type": "stream",
          "text": [
            "[198.00520833333334]\n"
          ],
          "name": "stdout"
        }
      ]
    },
    {
      "cell_type": "code",
      "metadata": {
        "colab": {
          "base_uri": "https://localhost:8080/"
        },
        "id": "mQA8G_beBc91",
        "outputId": "6c6fc944-f362-4f5f-ac96-31077e41977e"
      },
      "source": [
        "def get_contrast(im):\n",
        "   im = im.convert('L')\n",
        "   stat = ImageStat.Stat(im)\n",
        "   return stat.stddev\n",
        "\n",
        "c=get_contrast(im)\n",
        "print(c)"
      ],
      "execution_count": null,
      "outputs": [
        {
          "output_type": "stream",
          "text": [
            "[76.22973301209632]\n"
          ],
          "name": "stdout"
        }
      ]
    },
    {
      "cell_type": "code",
      "metadata": {
        "colab": {
          "base_uri": "https://localhost:8080/"
        },
        "id": "5b41gFaCJQVo",
        "outputId": "245df522-d98c-435c-a786-7ccf397405c6"
      },
      "source": [
        "x=np.array(im)\n",
        "print(x.max(),x.min())"
      ],
      "execution_count": null,
      "outputs": [
        {
          "output_type": "stream",
          "text": [
            "255 0\n"
          ],
          "name": "stdout"
        }
      ]
    }
  ]
}
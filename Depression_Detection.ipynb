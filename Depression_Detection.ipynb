{
  "nbformat": 4,
  "nbformat_minor": 0,
  "metadata": {
    "kernelspec": {
      "display_name": "Python 3",
      "language": "python",
      "name": "python3"
    },
    "language_info": {
      "codemirror_mode": {
        "name": "ipython",
        "version": 3
      },
      "file_extension": ".py",
      "mimetype": "text/x-python",
      "name": "python",
      "nbconvert_exporter": "python",
      "pygments_lexer": "ipython3",
      "version": "3.6.6"
    },
    "colab": {
      "name": "Depression Detection",
      "provenance": [],
      "collapsed_sections": []
    },
    "accelerator": "GPU"
  },
  "cells": [
    {
      "cell_type": "markdown",
      "metadata": {
        "id": "ElCNMEozgH3o"
      },
      "source": [
        "In this kernel we will go through a sentiment analysis on imdb dataset using LSTM."
      ]
    },
    {
      "cell_type": "code",
      "metadata": {
        "_cell_guid": "b1076dfc-b9ad-4769-8c92-a6c4dae69d19",
        "_uuid": "8f2839f25d086af736a60e9eeb907d3b93b6e0e5",
        "colab": {
          "base_uri": "https://localhost:8080/"
        },
        "id": "WrjLzRNegH3v",
        "outputId": "d7b53676-2051-4f0a-e3e7-e1c24652d178"
      },
      "source": [
        "import numpy as np # linear algebra\n",
        "import pandas as pd # data processing, CSV file I/O (e.g. pd.read_csv)\n",
        "import torch\n",
        "import torch.nn as nn\n",
        "import torch.nn.functional as F\n",
        "from nltk.corpus import stopwords \n",
        "from collections import Counter\n",
        "import string\n",
        "import re\n",
        "import seaborn as sns\n",
        "from tqdm import tqdm\n",
        "import matplotlib.pyplot as plt\n",
        "from torch.utils.data import TensorDataset, DataLoader\n",
        "from sklearn.model_selection import train_test_split\n",
        "import nltk\n",
        "nltk.download('stopwords')"
      ],
      "execution_count": 1,
      "outputs": [
        {
          "output_type": "stream",
          "text": [
            "[nltk_data] Downloading package stopwords to /root/nltk_data...\n",
            "[nltk_data]   Unzipping corpora/stopwords.zip.\n"
          ],
          "name": "stdout"
        },
        {
          "output_type": "execute_result",
          "data": {
            "text/plain": [
              "True"
            ]
          },
          "metadata": {
            "tags": []
          },
          "execution_count": 1
        }
      ]
    },
    {
      "cell_type": "code",
      "metadata": {
        "colab": {
          "base_uri": "https://localhost:8080/"
        },
        "id": "zGDKsxbwgH3w",
        "outputId": "ea91f092-6cf4-475d-ca41-f3805c9719ec"
      },
      "source": [
        "is_cuda = torch.cuda.is_available()\n",
        "\n",
        "# If we have a GPU available, we'll set our device to GPU. We'll use this device variable later in our code.\n",
        "if is_cuda:\n",
        "    device = torch.device(\"cuda\")\n",
        "    print(\"GPU is available\")\n",
        "else:\n",
        "    device = torch.device(\"cpu\")\n",
        "    print(\"GPU not available, CPU used\")"
      ],
      "execution_count": 2,
      "outputs": [
        {
          "output_type": "stream",
          "text": [
            "GPU is available\n"
          ],
          "name": "stdout"
        }
      ]
    },
    {
      "cell_type": "code",
      "metadata": {
        "colab": {
          "base_uri": "https://localhost:8080/"
        },
        "id": "jjn_WulkbWoa",
        "outputId": "6ac13af7-34a7-4123-cbac-4d3e79df9e72"
      },
      "source": [
        "from google.colab import drive\n",
        "drive.mount('/content/drive')"
      ],
      "execution_count": null,
      "outputs": [
        {
          "output_type": "stream",
          "text": [
            "Go to this URL in a browser: https://accounts.google.com/o/oauth2/auth?client_id=947318989803-6bn6qk8qdgf4n4g3pfee6491hc0brc4i.apps.googleusercontent.com&redirect_uri=urn%3aietf%3awg%3aoauth%3a2.0%3aoob&scope=email%20https%3a%2f%2fwww.googleapis.com%2fauth%2fdocs.test%20https%3a%2f%2fwww.googleapis.com%2fauth%2fdrive%20https%3a%2f%2fwww.googleapis.com%2fauth%2fdrive.photos.readonly%20https%3a%2f%2fwww.googleapis.com%2fauth%2fpeopleapi.readonly%20https%3a%2f%2fwww.googleapis.com%2fauth%2fdrive.activity.readonly%20https%3a%2f%2fwww.googleapis.com%2fauth%2fexperimentsandconfigs%20https%3a%2f%2fwww.googleapis.com%2fauth%2fphotos.native&response_type=code\n",
            "\n",
            "Enter your authorization code:\n",
            "4/1AY0e-g51d5qBJPzL1yAZDAJkLrS4tZyDmBvwEaGY3AA8J3myHLstKNyx74A\n"
          ],
          "name": "stdout"
        }
      ]
    },
    {
      "cell_type": "code",
      "metadata": {
        "_cell_guid": "79c7e3d0-c299-4dcb-8224-4455121ee9b0",
        "_uuid": "d629ff2d2480ee46fbb7e2d37f6b5fab8052498a",
        "id": "wxxaDEoZgH3x"
      },
      "source": [
        "positive_csv='/content/drive/MyDrive/4th_Sem/IR/Project/features_positive.csv'\n",
        "df=pd.read_csv(positive_csv)\n",
        "l=df['tweet'].values\n",
        "output=['positive']*len(l)\n",
        "negative_csv='/content/drive/MyDrive/4th_Sem/IR/Project/features_negative.csv'\n",
        "df=pd.read_csv(negative_csv)\n",
        "l1=df['tweet'].values\n",
        "output1=['negative']*len(l1)\n",
        "l=np.append(l,l1)\n",
        "output=np.append(output,output1)\n",
        "list_of_tuples = list(zip(l, output)) \n",
        "list_of_tuples    \n",
        "df = pd.DataFrame(list_of_tuples,\n",
        "                  columns = ['review', 'sentiment']) \n",
        "df=df.sample(n = 1000)\n"
      ],
      "execution_count": 7,
      "outputs": []
    },
    {
      "cell_type": "code",
      "metadata": {
        "colab": {
          "base_uri": "https://localhost:8080/",
          "height": 195
        },
        "id": "gKjdJ5uVlgpV",
        "outputId": "e93ea379-4c51-433d-bfc0-de6116515764"
      },
      "source": [
        "df.head()"
      ],
      "execution_count": 9,
      "outputs": [
        {
          "output_type": "execute_result",
          "data": {
            "text/html": [
              "<div>\n",
              "<style scoped>\n",
              "    .dataframe tbody tr th:only-of-type {\n",
              "        vertical-align: middle;\n",
              "    }\n",
              "\n",
              "    .dataframe tbody tr th {\n",
              "        vertical-align: top;\n",
              "    }\n",
              "\n",
              "    .dataframe thead th {\n",
              "        text-align: right;\n",
              "    }\n",
              "</style>\n",
              "<table border=\"1\" class=\"dataframe\">\n",
              "  <thead>\n",
              "    <tr style=\"text-align: right;\">\n",
              "      <th></th>\n",
              "      <th>review</th>\n",
              "      <th>sentiment</th>\n",
              "    </tr>\n",
              "  </thead>\n",
              "  <tbody>\n",
              "    <tr>\n",
              "      <th>903</th>\n",
              "      <td>krhtrillion logo_a_day         rt  artfx...</td>\n",
              "      <td>negative</td>\n",
              "    </tr>\n",
              "    <tr>\n",
              "      <th>317</th>\n",
              "      <td>i be unemployed i have be diagnose with ptsd ...</td>\n",
              "      <td>positive</td>\n",
              "    </tr>\n",
              "    <tr>\n",
              "      <th>728</th>\n",
              "      <td>i have such a crazy dream last night if you d...</td>\n",
              "      <td>negative</td>\n",
              "    </tr>\n",
              "    <tr>\n",
              "      <th>557</th>\n",
              "      <td>i should be at wanderer right now yazi savsl ...</td>\n",
              "      <td>negative</td>\n",
              "    </tr>\n",
              "    <tr>\n",
              "      <th>465</th>\n",
              "      <td>you seem depress lately why be that ive be di...</td>\n",
              "      <td>positive</td>\n",
              "    </tr>\n",
              "  </tbody>\n",
              "</table>\n",
              "</div>"
            ],
            "text/plain": [
              "                                                review sentiment\n",
              "903        krhtrillion logo_a_day         rt  artfx...  negative\n",
              "317   i be unemployed i have be diagnose with ptsd ...  positive\n",
              "728   i have such a crazy dream last night if you d...  negative\n",
              "557   i should be at wanderer right now yazi savsl ...  negative\n",
              "465   you seem depress lately why be that ive be di...  positive"
            ]
          },
          "metadata": {
            "tags": []
          },
          "execution_count": 9
        }
      ]
    },
    {
      "cell_type": "markdown",
      "metadata": {
        "id": "WOpKzKrFgH3x"
      },
      "source": [
        "### Splitting to train and test data"
      ]
    },
    {
      "cell_type": "markdown",
      "metadata": {
        "id": "9TADajY7gH3y"
      },
      "source": [
        "We will split data to train and test initially.Doing this on earlier stage allows to avoid data lekage.\n"
      ]
    },
    {
      "cell_type": "code",
      "metadata": {
        "colab": {
          "base_uri": "https://localhost:8080/"
        },
        "id": "46twVA09gH3y",
        "outputId": "2649b4bc-65e5-4537-b078-55ccbec716f7"
      },
      "source": [
        "X,y = df['review'].values,df['sentiment'].values\n",
        "x_train,x_test,y_train,y_test = train_test_split(X,y,stratify=y)\n",
        "print(f'shape of train data is {x_train.shape}')\n",
        "print(f'shape of test data is {x_test.shape}')"
      ],
      "execution_count": 10,
      "outputs": [
        {
          "output_type": "stream",
          "text": [
            "shape of train data is (750,)\n",
            "shape of test data is (250,)\n"
          ],
          "name": "stdout"
        }
      ]
    },
    {
      "cell_type": "markdown",
      "metadata": {
        "id": "5g_JcZ0QgH3y"
      },
      "source": [
        "### Analysing sentiment"
      ]
    },
    {
      "cell_type": "code",
      "metadata": {
        "colab": {
          "base_uri": "https://localhost:8080/",
          "height": 265
        },
        "id": "hVgOh6yFgH3z",
        "outputId": "151da7de-20ba-463b-b4a1-e18d88a22cdf"
      },
      "source": [
        "dd = pd.Series(y_train).value_counts()\n",
        "sns.barplot(x=np.array(['negative','positive']),y=dd.values)\n",
        "plt.show()"
      ],
      "execution_count": 11,
      "outputs": [
        {
          "output_type": "display_data",
          "data": {
            "image/png": "[encoded data removed]",
            "text/plain": [
              "<Figure size 432x288 with 1 Axes>"
            ]
          },
          "metadata": {
            "tags": [],
            "needs_background": "light"
          }
        }
      ]
    },
    {
      "cell_type": "markdown",
      "metadata": {
        "id": "132OGJlvgH3z"
      },
      "source": [
        "### Tockenization"
      ]
    },
    {
      "cell_type": "code",
      "metadata": {
        "id": "vMkYYQ3mgH3z"
      },
      "source": [
        "def preprocess_string(s):\n",
        "    # Remove all non-word characters (everything except numbers and letters)\n",
        "    s = re.sub(r\"[^\\w\\s]\", '', s)\n",
        "    # Replace all runs of whitespaces with no space\n",
        "    s = re.sub(r\"\\s+\", '', s)\n",
        "    # replace digits with no space\n",
        "    s = re.sub(r\"\\d\", '', s)\n",
        "\n",
        "    return s\n",
        "\n",
        "def tockenize(x_train,y_train,x_val,y_val):\n",
        "    word_list = []\n",
        "\n",
        "    stop_words = set(stopwords.words('english')) \n",
        "    for sent in x_train:\n",
        "        for word in sent.lower().split():\n",
        "            word = preprocess_string(word)\n",
        "            if word not in stop_words and word != '':\n",
        "                word_list.append(word)\n",
        "  \n",
        "    corpus = Counter(word_list)\n",
        "    # sorting on the basis of most common words\n",
        "    corpus_ = sorted(corpus,key=corpus.get,reverse=True)[:1000]\n",
        "    # creating a dict\n",
        "    onehot_dict = {w:i+1 for i,w in enumerate(corpus_)}\n",
        "    \n",
        "    # tockenize\n",
        "    final_list_train,final_list_test = [],[]\n",
        "    for sent in x_train:\n",
        "            final_list_train.append([onehot_dict[preprocess_string(word)] for word in sent.lower().split() \n",
        "                                     if preprocess_string(word) in onehot_dict.keys()])\n",
        "    for sent in x_val:\n",
        "            final_list_test.append([onehot_dict[preprocess_string(word)] for word in sent.lower().split() \n",
        "                                    if preprocess_string(word) in onehot_dict.keys()])\n",
        "            \n",
        "    encoded_train = [1 if label =='positive' else 0 for label in y_train]  \n",
        "    encoded_test = [1 if label =='positive' else 0 for label in y_val] \n",
        "    return np.array(final_list_train), np.array(encoded_train),np.array(final_list_test), np.array(encoded_test),onehot_dict\n"
      ],
      "execution_count": 12,
      "outputs": []
    },
    {
      "cell_type": "code",
      "metadata": {
        "colab": {
          "base_uri": "https://localhost:8080/"
        },
        "id": "Fvq0mtMsgH30",
        "outputId": "a76ad722-48da-45df-b409-fd6f6cf5e3a3"
      },
      "source": [
        "x_train,y_train,x_test,y_test,vocab = tockenize(x_train,y_train,x_test,y_test)"
      ],
      "execution_count": 13,
      "outputs": [
        {
          "output_type": "stream",
          "text": [
            "/usr/local/lib/python3.7/dist-packages/ipykernel_launcher.py:38: VisibleDeprecationWarning: Creating an ndarray from ragged nested sequences (which is a list-or-tuple of lists-or-tuples-or ndarrays with different lengths or shapes) is deprecated. If you meant to do this, you must specify 'dtype=object' when creating the ndarray\n"
          ],
          "name": "stderr"
        }
      ]
    },
    {
      "cell_type": "code",
      "metadata": {
        "colab": {
          "base_uri": "https://localhost:8080/"
        },
        "id": "kKRTUMLEgH31",
        "outputId": "ee2f40b9-e046-4157-d085-5daef4d0e312"
      },
      "source": [
        "print(f'Length of vocabulary is {len(vocab)}')"
      ],
      "execution_count": 14,
      "outputs": [
        {
          "output_type": "stream",
          "text": [
            "Length of vocabulary is 1000\n"
          ],
          "name": "stdout"
        }
      ]
    },
    {
      "cell_type": "markdown",
      "metadata": {
        "id": "kO6sXASJgH31"
      },
      "source": [
        "### Analysing review length"
      ]
    },
    {
      "cell_type": "code",
      "metadata": {
        "colab": {
          "base_uri": "https://localhost:8080/",
          "height": 416
        },
        "id": "PcnvKYDUgH31",
        "outputId": "64d6546d-14ab-4c8e-d77e-0c5ee41f6d9a"
      },
      "source": [
        "rev_len = [len(i) for i in x_train]\n",
        "pd.Series(rev_len).hist()\n",
        "plt.show()\n",
        "pd.Series(rev_len).describe()"
      ],
      "execution_count": 15,
      "outputs": [
        {
          "output_type": "display_data",
          "data": {
            "image/png": "[encoded data removed]",
            "text/plain": [
              "<Figure size 432x288 with 1 Axes>"
            ]
          },
          "metadata": {
            "tags": [],
            "needs_background": "light"
          }
        },
        {
          "output_type": "execute_result",
          "data": {
            "text/plain": [
              "count      750.000000\n",
              "mean      1328.410667\n",
              "std       2165.199768\n",
              "min          0.000000\n",
              "25%        156.000000\n",
              "50%        480.000000\n",
              "75%       1340.500000\n",
              "max      14071.000000\n",
              "dtype: float64"
            ]
          },
          "metadata": {
            "tags": []
          },
          "execution_count": 15
        }
      ]
    },
    {
      "cell_type": "markdown",
      "metadata": {
        "id": "mxI-lRBXgH32"
      },
      "source": [
        "### Padding"
      ]
    },
    {
      "cell_type": "markdown",
      "metadata": {
        "id": "9IASssQHgH32"
      },
      "source": [
        "Now we will pad each of the sequence to max length "
      ]
    },
    {
      "cell_type": "code",
      "metadata": {
        "id": "Xfzhc3C7gH32"
      },
      "source": [
        "def padding_(sentences, seq_len):\n",
        "    features = np.zeros((len(sentences), seq_len),dtype=int)\n",
        "    for ii, review in enumerate(sentences):\n",
        "        if len(review) != 0:\n",
        "            features[ii, -len(review):] = np.array(review)[:seq_len]\n",
        "    return features"
      ],
      "execution_count": 16,
      "outputs": []
    },
    {
      "cell_type": "code",
      "metadata": {
        "id": "yydZfMFMgH33"
      },
      "source": [
        "#we have very less number of reviews with length > 500.\n",
        "#So we will consideronly those below it.\n",
        "x_train_pad = padding_(x_train,1500)\n",
        "x_test_pad = padding_(x_test,1500)\n"
      ],
      "execution_count": 17,
      "outputs": []
    },
    {
      "cell_type": "markdown",
      "metadata": {
        "id": "SIwFgVbJgH33"
      },
      "source": [
        "### Batching and loading as tensor"
      ]
    },
    {
      "cell_type": "code",
      "metadata": {
        "id": "0lG9VHx7gH33"
      },
      "source": [
        "# create Tensor datasets\n",
        "train_data = TensorDataset(torch.from_numpy(x_train_pad), torch.from_numpy(y_train))\n",
        "valid_data = TensorDataset(torch.from_numpy(x_test_pad), torch.from_numpy(y_test))\n",
        "\n",
        "# dataloaders\n",
        "batch_size = 50\n",
        "\n",
        "# make sure to SHUFFLE your data\n",
        "train_loader = DataLoader(train_data, shuffle=True, batch_size=batch_size,drop_last=True)\n",
        "valid_loader = DataLoader(valid_data, shuffle=True, batch_size=batch_size,drop_last=True)"
      ],
      "execution_count": 18,
      "outputs": []
    },
    {
      "cell_type": "code",
      "metadata": {
        "colab": {
          "base_uri": "https://localhost:8080/"
        },
        "id": "mYS7eopkgH34",
        "outputId": "2478da04-4419-4635-d2ee-51419f519e95"
      },
      "source": [
        "# obtain one batch of training data\n",
        "dataiter = iter(train_loader)\n",
        "sample_x, sample_y = dataiter.next()\n",
        "\n",
        "print('Sample input size: ', sample_x.size()) # batch_size, seq_length\n",
        "print('Sample input: \\n', sample_x)\n",
        "print('Sample input: \\n', sample_y)"
      ],
      "execution_count": 19,
      "outputs": [
        {
          "output_type": "stream",
          "text": [
            "Sample input size:  torch.Size([50, 1500])\n",
            "Sample input: \n",
            " tensor([[  0,   0,   0,  ...,   6,  26, 283],\n",
            "        [  0,   0,   0,  ...,   6,  69, 395],\n",
            "        [  1, 546,  26,  ...,   7,  21, 439],\n",
            "        ...,\n",
            "        [  0,   0,   0,  ...,  70,   1,  97],\n",
            "        [  0,   0,   0,  ..., 197, 579, 458],\n",
            "        [  0,   0,   0,  ..., 112,  34,  38]])\n",
            "Sample input: \n",
            " tensor([1, 1, 1, 0, 1, 0, 1, 1, 0, 1, 1, 0, 0, 0, 1, 1, 0, 1, 1, 0, 1, 1, 1, 1,\n",
            "        1, 1, 1, 1, 1, 0, 1, 0, 0, 1, 1, 0, 0, 1, 1, 1, 0, 0, 1, 0, 0, 1, 0, 1,\n",
            "        0, 1])\n"
          ],
          "name": "stdout"
        }
      ]
    },
    {
      "cell_type": "markdown",
      "metadata": {
        "id": "nKrt3kDegH34"
      },
      "source": [
        "We need to add an embedding layer because there are less words in our vocabulary. It is massively inefficient to one-hot encode that many classes. So, instead of one-hot encoding, we can have an embedding layer and use that layer as a lookup table. You could train an embedding layer using Word2Vec, then load it here. But, it's fine to just make a new layer, using it for only dimensionality reduction, and let the network learn the weights."
      ]
    },
    {
      "cell_type": "markdown",
      "metadata": {
        "id": "2hudwR0YgH34"
      },
      "source": [
        "### Model"
      ]
    },
    {
      "cell_type": "code",
      "metadata": {
        "id": "s8S9UzABgH35"
      },
      "source": [
        "class SentimentRNN(nn.Module):\n",
        "    def __init__(self,no_layers,vocab_size,hidden_dim,embedding_dim,drop_prob=0.5):\n",
        "        super(SentimentRNN,self).__init__()\n",
        " \n",
        "        self.output_dim = output_dim\n",
        "        self.hidden_dim = hidden_dim\n",
        " \n",
        "        self.no_layers = no_layers\n",
        "        self.vocab_size = vocab_size\n",
        "        self.embedding = nn.Embedding(vocab_size, embedding_dim)\n",
        "        self.lstm = nn.LSTM(input_size=embedding_dim,hidden_size=self.hidden_dim,\n",
        "                           num_layers=no_layers, batch_first=True)\n",
        "        self.dropout = nn.Dropout(0.8)\n",
        "        self.fc = nn.Linear(self.hidden_dim, output_dim)\n",
        "        self.sig = nn.Sigmoid()\n",
        "        \n",
        "    def forward(self,x,hidden):\n",
        "        batch_size = x.size(0)\n",
        "        embeds = self.embedding(x) \n",
        "        lstm_out, hidden = self.lstm(embeds, hidden)        \n",
        "        lstm_out = lstm_out.contiguous().view(-1, self.hidden_dim) \n",
        "        \n",
        "        out = self.dropout(lstm_out)\n",
        "        out = self.fc(out)        \n",
        "        sig_out = self.sig(out)        \n",
        "        sig_out = sig_out.view(batch_size, -1)\n",
        "\n",
        "        sig_out = sig_out[:, -1] \n",
        "        return sig_out, hidden\n",
        "        \n",
        "        \n",
        "        \n",
        "    def init_hidden(self, batch_size):\n",
        "        ''' Initializes hidden state '''\n",
        "        # Create two new tensors with sizes n_layers x batch_size x hidden_dim,\n",
        "        # initialized to zero, for hidden state and cell state of LSTM\n",
        "        h0 = torch.zeros((self.no_layers,batch_size,self.hidden_dim)).to(device)\n",
        "        c0 = torch.zeros((self.no_layers,batch_size,self.hidden_dim)).to(device)\n",
        "        hidden = (h0,c0)\n",
        "        return hidden\n",
        "\n",
        "              "
      ],
      "execution_count": 20,
      "outputs": []
    },
    {
      "cell_type": "code",
      "metadata": {
        "colab": {
          "base_uri": "https://localhost:8080/"
        },
        "id": "949zsbvzgH36",
        "outputId": "d4424778-6280-434b-aff8-f24ce3223c76"
      },
      "source": [
        "no_layers = 3\n",
        "vocab_size = len(vocab) + 1 #extra 1 for padding\n",
        "embedding_dim = 64\n",
        "output_dim = 1\n",
        "hidden_dim = 512\n",
        "model = SentimentRNN(no_layers,vocab_size,hidden_dim,embedding_dim,drop_prob=0.5)\n",
        "\n",
        "model.to(device)"
      ],
      "execution_count": 127,
      "outputs": [
        {
          "output_type": "execute_result",
          "data": {
            "text/plain": [
              "SentimentRNN(\n",
              "  (embedding): Embedding(1001, 64)\n",
              "  (lstm): LSTM(64, 512, num_layers=3, batch_first=True)\n",
              "  (dropout): Dropout(p=0.8, inplace=False)\n",
              "  (fc): Linear(in_features=512, out_features=1, bias=True)\n",
              "  (sig): Sigmoid()\n",
              ")"
            ]
          },
          "metadata": {
            "tags": []
          },
          "execution_count": 127
        }
      ]
    },
    {
      "cell_type": "markdown",
      "metadata": {
        "id": "TE29Df86gH36"
      },
      "source": [
        "### Training"
      ]
    },
    {
      "cell_type": "code",
      "metadata": {
        "id": "U15QIHEpgayu"
      },
      "source": [
        "def acc(pred,label):\n",
        "    pred = torch.round(pred.squeeze())\n",
        "    return torch.sum(pred == label.squeeze()).item()\n"
      ],
      "execution_count": 21,
      "outputs": []
    },
    {
      "cell_type": "code",
      "metadata": {
        "id": "tTy9xlLdgH36"
      },
      "source": [
        "lr=0.001\n",
        "criterion = nn.BCELoss()\n",
        "optimizer = torch.optim.Adam(model.parameters(), lr=lr)"
      ],
      "execution_count": 128,
      "outputs": []
    },
    {
      "cell_type": "code",
      "metadata": {
        "colab": {
          "base_uri": "https://localhost:8080/"
        },
        "id": "lTvmMs_9gH36",
        "outputId": "5196135a-9162-4dc2-c5cd-3ec6200aebc8"
      },
      "source": [
        "clip = 5\n",
        "epochs = 10\n",
        "valid_loss_min = np.Inf\n",
        "# train for some number of epochs\n",
        "epoch_tr_loss,epoch_vl_loss = [],[]\n",
        "epoch_tr_acc,epoch_vl_acc = [],[]\n",
        "\n",
        "for epoch in range(epochs):\n",
        "    train_losses = []\n",
        "    train_acc = 0.0\n",
        "    model.train()\n",
        "\n",
        "    h = model.init_hidden(batch_size)\n",
        "    for inputs, labels in train_loader:\n",
        "        \n",
        "        inputs, labels = inputs.to(device), labels.to(device)   \n",
        "        h = tuple([each.data for each in h])\n",
        "        \n",
        "        model.zero_grad()\n",
        "        output,h = model(inputs,h)\n",
        "        \n",
        "        loss = criterion(output.squeeze(), labels.float())\n",
        "        loss.backward()\n",
        "        train_losses.append(loss.item())\n",
        "        accuracy = acc(output,labels)\n",
        "        train_acc += accuracy\n",
        "        nn.utils.clip_grad_norm_(model.parameters(), clip)\n",
        "        optimizer.step()\n",
        "\n",
        "    val_h = model.init_hidden(batch_size)\n",
        "    val_losses = []\n",
        "    val_acc = 0.0\n",
        "    model.eval()\n",
        "    for inputs, labels in valid_loader:\n",
        "            val_h = tuple([each.data for each in val_h])\n",
        "\n",
        "            inputs, labels = inputs.to(device), labels.to(device)\n",
        "\n",
        "            output, val_h = model(inputs, val_h)\n",
        "            val_loss = criterion(output.squeeze(), labels.float())\n",
        "\n",
        "            val_losses.append(val_loss.item())\n",
        "            \n",
        "            accuracy = acc(output,labels)\n",
        "            val_acc += accuracy\n",
        "            \n",
        "    epoch_train_loss = np.mean(train_losses)\n",
        "    epoch_val_loss = np.mean(val_losses)\n",
        "    epoch_train_acc = train_acc/len(train_loader.dataset)\n",
        "    epoch_val_acc = val_acc/len(valid_loader.dataset)\n",
        "    epoch_tr_loss.append(epoch_train_loss)\n",
        "    epoch_vl_loss.append(epoch_val_loss)\n",
        "    epoch_tr_acc.append(epoch_train_acc)\n",
        "    epoch_vl_acc.append(epoch_val_acc)\n",
        "    print(f'Epoch {epoch+1}') \n",
        "    print(f'train_loss : {epoch_train_loss} val_loss : {epoch_val_loss}')\n",
        "    print(f'train_accuracy : {epoch_train_acc*100} val_accuracy : {epoch_val_acc*100}')\n",
        "    if epoch_val_loss <= valid_loss_min:\n",
        "        torch.save(model.state_dict(), './state_dict.pt')\n",
        "        print('Validation loss decreased ({:.6f} --> {:.6f}).  Saving model ...'.format(valid_loss_min,epoch_val_loss))\n",
        "        valid_loss_min = epoch_val_loss\n",
        "    print(25*'==')\n",
        "    "
      ],
      "execution_count": 129,
      "outputs": [
        {
          "output_type": "stream",
          "text": [
            "Epoch 1\n",
            "train_loss : 0.6835545500119528 val_loss : 0.6281878709793091\n",
            "train_accuracy : 54.400000000000006 val_accuracy : 58.4\n",
            "Validation loss decreased (inf --> 0.628188).  Saving model ...\n",
            "==================================================\n",
            "Epoch 2\n",
            "train_loss : 0.6597593824068705 val_loss : 0.6300765752792359\n",
            "train_accuracy : 62.53333333333333 val_accuracy : 62.8\n",
            "==================================================\n",
            "Epoch 3\n",
            "train_loss : 0.579094523191452 val_loss : 0.6172662019729614\n",
            "train_accuracy : 70.0 val_accuracy : 64.8\n",
            "Validation loss decreased (0.628188 --> 0.617266).  Saving model ...\n",
            "==================================================\n",
            "Epoch 4\n",
            "train_loss : 0.5510916392008464 val_loss : 0.6193891644477845\n",
            "train_accuracy : 73.6 val_accuracy : 64.0\n",
            "==================================================\n",
            "Epoch 5\n",
            "train_loss : 0.49561970035235087 val_loss : 0.633677875995636\n",
            "train_accuracy : 77.86666666666666 val_accuracy : 64.4\n",
            "==================================================\n",
            "Epoch 6\n",
            "train_loss : 0.41563453872998557 val_loss : 0.7204426169395447\n",
            "train_accuracy : 81.2 val_accuracy : 64.4\n",
            "==================================================\n",
            "Epoch 7\n",
            "train_loss : 0.35776052077611287 val_loss : 0.702371621131897\n",
            "train_accuracy : 85.2 val_accuracy : 63.6\n",
            "==================================================\n",
            "Epoch 8\n",
            "train_loss : 0.28418742020924886 val_loss : 0.9588122606277466\n",
            "train_accuracy : 89.2 val_accuracy : 64.8\n",
            "==================================================\n",
            "Epoch 9\n",
            "train_loss : 0.22573652019103368 val_loss : 0.9365017056465149\n",
            "train_accuracy : 91.46666666666667 val_accuracy : 65.2\n",
            "==================================================\n",
            "Epoch 10\n",
            "train_loss : 0.18303806831439337 val_loss : 1.1939510583877564\n",
            "train_accuracy : 93.86666666666666 val_accuracy : 61.6\n",
            "==================================================\n"
          ],
          "name": "stdout"
        }
      ]
    },
    {
      "cell_type": "code",
      "metadata": {
        "colab": {
          "base_uri": "https://localhost:8080/",
          "height": 225
        },
        "id": "XR4bRFL0gH37",
        "outputId": "f87f86c8-5b44-4189-806b-0b8b6cc40064"
      },
      "source": [
        "fig = plt.figure(figsize = (20, 6))\n",
        "plt.subplot(1, 2, 1)\n",
        "plt.plot(epoch_tr_acc, label='Train Acc')\n",
        "plt.plot(epoch_vl_acc, label='Validation Acc')\n",
        "plt.title(\"Accuracy\")\n",
        "plt.legend()\n",
        "plt.grid()\n",
        "    \n",
        "plt.subplot(1, 2, 2)\n",
        "plt.plot(epoch_tr_loss, label='Train loss')\n",
        "plt.plot(epoch_vl_loss, label='Validation loss')\n",
        "plt.title(\"Loss\")\n",
        "plt.legend()\n",
        "plt.grid()\n",
        "\n",
        "plt.show()"
      ],
      "execution_count": 130,
      "outputs": [
        {
          "output_type": "display_data",
          "data": {
            "image/png": "[encoded data removed]",
            "text/plain": [
              "<Figure size 1440x432 with 2 Axes>"
            ]
          },
          "metadata": {
            "tags": [],
            "needs_background": "light"
          }
        }
      ]
    },
    {
      "cell_type": "code",
      "metadata": {
        "id": "XCzREe4MUGtN"
      },
      "source": [
        ""
      ],
      "execution_count": null,
      "outputs": []
    },
    {
      "cell_type": "code",
      "metadata": {
        "id": "L5S3HwqQUGvf"
      },
      "source": [
        ""
      ],
      "execution_count": null,
      "outputs": []
    },
    {
      "cell_type": "code",
      "metadata": {
        "id": "UIspO1Y0UoAE"
      },
      "source": [
        ""
      ],
      "execution_count": null,
      "outputs": []
    },
    {
      "cell_type": "markdown",
      "metadata": {
        "id": "e8DycSThUoUt"
      },
      "source": [
        "#Atttention Model"
      ]
    },
    {
      "cell_type": "code",
      "metadata": {
        "id": "reerswQfoUuO"
      },
      "source": [
        "class Attention(nn.Module):\n",
        "    def __init__(self, feature_dim, step_dim, bias=True, **kwargs):\n",
        "        super(Attention, self).__init__(**kwargs)\n",
        "        \n",
        "        self.supports_masking = True\n",
        "        self.bias = bias\n",
        "        self.feature_dim = feature_dim\n",
        "        self.step_dim = step_dim\n",
        "        self.features_dim = 0\n",
        "        weight = torch.zeros(feature_dim, 1)\n",
        "        nn.init.kaiming_uniform_(weight)\n",
        "        self.weight = nn.Parameter(weight)\n",
        "        if bias:\n",
        "            self.b = nn.Parameter(torch.zeros(step_dim))\n",
        "        \n",
        "    def forward(self, x, mask=None):\n",
        "        feature_dim = self.feature_dim \n",
        "        step_dim = self.step_dim\n",
        "        \n",
        "        eij = torch.mm(\n",
        "            x.contiguous().view(-1, feature_dim), \n",
        "            self.weight).view(-1, step_dim)\n",
        "\n",
        "        if self.bias:\n",
        "            eij = eij + self.b           \n",
        "        eij = torch.tanh(eij)\n",
        "        a = torch.exp(eij)\n",
        "        if mask is not None:\n",
        "            a = a * mask\n",
        "        a = a / (torch.sum(a, 1, keepdim=True) + 1e-10)       \n",
        "        weighted_input = x * torch.unsqueeze(a.T, -1)\n",
        "        \n",
        "        return torch.sum(weighted_input, 1)\n"
      ],
      "execution_count": 22,
      "outputs": []
    },
    {
      "cell_type": "code",
      "metadata": {
        "id": "SY8mY3u-oWNM"
      },
      "source": [
        "class Atten_net(nn.Module):\n",
        "    def __init__(self,no_layers,vocab_size,hidden_dim,embedding_dim,drop_prob=0.5):\n",
        "        super(Atten_net, self).__init__()\n",
        "\n",
        "        self.output_dim = output_dim\n",
        "        self.hidden_dim = hidden_dim\n",
        "        self.no_layers = no_layers\n",
        "        self.vocab_size = vocab_size\n",
        "\n",
        "        self.embedding = nn.Embedding(vocab_size, embedding_dim)\n",
        "\n",
        "        self.lstm = nn.LSTM(input_size=embedding_dim,hidden_size=self.hidden_dim,num_layers=no_layers, batch_first=True)\n",
        "        self.attention = Attention(256,50)\n",
        "        \n",
        "        self.dropout = nn.Dropout(0.5)    \n",
        "        self.fc = nn.Linear(self.hidden_dim, output_dim)\n",
        "        self.sig = nn.Sigmoid()\n",
        "\n",
        "    def forward(self, X,hidden):\n",
        "\n",
        "        batch_size = X.size(0)\n",
        "        h1_embedding = self.embedding(X)\n",
        "        h1_embedding = torch.squeeze(torch.unsqueeze(h1_embedding, 0))\n",
        "\n",
        "        out, _ = self.lstm(h1_embedding)\n",
        "        \n",
        "        out=self.attention(out)\n",
        "        \n",
        "        \n",
        "        out = self.fc(out)\n",
        "        sig_out = self.sig(out)\n",
        "        sig_out = sig_out.view(batch_size, -1)\n",
        "        sig_out = sig_out[:, -1] # get last batch of labels\n",
        "        \n",
        "        return sig_out, hidden\n",
        "        \n",
        "    def init_hidden(self, batch_size):\n",
        "        ''' Initializes hidden state '''\n",
        "        h0 = torch.zeros((self.no_layers,batch_size,self.hidden_dim)).to(device)\n",
        "        c0 = torch.zeros((self.no_layers,batch_size,self.hidden_dim)).to(device)\n",
        "        hidden = (h0,c0)\n",
        "        return hidden"
      ],
      "execution_count": 23,
      "outputs": []
    },
    {
      "cell_type": "code",
      "metadata": {
        "colab": {
          "base_uri": "https://localhost:8080/"
        },
        "id": "QVdZDC9RUG0e",
        "outputId": "710cdd38-4bfe-41d2-8bfa-9b0e91f65c16"
      },
      "source": [
        "no_layers = 2\n",
        "vocab_size = len(vocab) + 1 #extra 1 for padding\n",
        "embedding_dim = 64\n",
        "output_dim = 1\n",
        "hidden_dim = 256\n",
        "model = Atten_net(no_layers,vocab_size,hidden_dim,embedding_dim,drop_prob=0.5)\n",
        "\n",
        "model.to(device)"
      ],
      "execution_count": 24,
      "outputs": [
        {
          "output_type": "execute_result",
          "data": {
            "text/plain": [
              "Atten_net(\n",
              "  (embedding): Embedding(1001, 64)\n",
              "  (lstm): LSTM(64, 256, num_layers=2, batch_first=True)\n",
              "  (attention): Attention()\n",
              "  (dropout): Dropout(p=0.5, inplace=False)\n",
              "  (fc): Linear(in_features=256, out_features=1, bias=True)\n",
              "  (sig): Sigmoid()\n",
              ")"
            ]
          },
          "metadata": {
            "tags": []
          },
          "execution_count": 24
        }
      ]
    },
    {
      "cell_type": "code",
      "metadata": {
        "id": "X_3c5tpTu3hT"
      },
      "source": [
        "lr=0.001\n",
        "criterion = nn.BCELoss()\n",
        "optimizer = torch.optim.Adam(model.parameters(), lr=lr)"
      ],
      "execution_count": 25,
      "outputs": []
    },
    {
      "cell_type": "code",
      "metadata": {
        "colab": {
          "base_uri": "https://localhost:8080/"
        },
        "id": "YBxj4mZXUG2g",
        "outputId": "d6343b63-6e3f-43c6-a6b7-fd274148e112"
      },
      "source": [
        "clip = 5\n",
        "epochs = 10\n",
        "valid_loss_min = np.Inf\n",
        "# train for some number of epochs\n",
        "epoch_tr_loss,epoch_vl_loss = [],[]\n",
        "epoch_tr_acc,epoch_vl_acc = [],[]\n",
        "\n",
        "for epoch in range(epochs):\n",
        "    train_losses = []\n",
        "    train_acc = 0.0\n",
        "    model.train()\n",
        "\n",
        "    h = model.init_hidden(batch_size)\n",
        "    for inputs, labels in train_loader:\n",
        "        \n",
        "        inputs, labels = inputs.to(device), labels.to(device)   \n",
        "        h = tuple([each.data for each in h])\n",
        "        \n",
        "        model.zero_grad()\n",
        "        output,h = model(inputs,h)\n",
        "        \n",
        "        loss = criterion(output.squeeze(), labels.float())\n",
        "        loss.backward()\n",
        "        train_losses.append(loss.item())\n",
        "        accuracy = acc(output,labels)\n",
        "        train_acc += accuracy\n",
        "        nn.utils.clip_grad_norm_(model.parameters(), clip)\n",
        "        optimizer.step()\n",
        "\n",
        "    val_h = model.init_hidden(batch_size)\n",
        "    val_losses = []\n",
        "    val_acc = 0.0\n",
        "    model.eval()\n",
        "    for inputs, labels in valid_loader:\n",
        "            val_h = tuple([each.data for each in val_h])\n",
        "\n",
        "            inputs, labels = inputs.to(device), labels.to(device)\n",
        "\n",
        "            output, val_h = model(inputs, val_h)\n",
        "            val_loss = criterion(output.squeeze(), labels.float())\n",
        "\n",
        "            val_losses.append(val_loss.item())\n",
        "            \n",
        "            accuracy = acc(output,labels)\n",
        "            val_acc += accuracy\n",
        "            \n",
        "    epoch_train_loss = np.mean(train_losses)\n",
        "    epoch_val_loss = np.mean(val_losses)\n",
        "    epoch_train_acc = train_acc/len(train_loader.dataset)\n",
        "    epoch_val_acc = val_acc/len(valid_loader.dataset)\n",
        "    epoch_tr_loss.append(epoch_train_loss)\n",
        "    epoch_vl_loss.append(epoch_val_loss)\n",
        "    epoch_tr_acc.append(epoch_train_acc)\n",
        "    epoch_vl_acc.append(epoch_val_acc)\n",
        "    print(f'Epoch {epoch+1}') \n",
        "    print(f'train_loss : {epoch_train_loss} val_loss : {epoch_val_loss}')\n",
        "    print(f'train_accuracy : {epoch_train_acc*100} val_accuracy : {epoch_val_acc*100}')\n",
        "    if epoch_val_loss <= valid_loss_min:\n",
        "        torch.save(model.state_dict(), './state_dict.pt')\n",
        "        print('Validation loss decreased ({:.6f} --> {:.6f}).  Saving model ...'.format(valid_loss_min,epoch_val_loss))\n",
        "        valid_loss_min = epoch_val_loss\n",
        "    print(25*'==')\n",
        "    "
      ],
      "execution_count": 26,
      "outputs": [
        {
          "output_type": "stream",
          "text": [
            "Epoch 1\n",
            "train_loss : 0.7334569811820983 val_loss : 0.7354124426841736\n",
            "train_accuracy : 59.199999999999996 val_accuracy : 50.0\n",
            "Validation loss decreased (inf --> 0.735412).  Saving model ...\n",
            "==================================================\n",
            "Epoch 2\n",
            "train_loss : 0.664478067557017 val_loss : 0.648106849193573\n",
            "train_accuracy : 58.8 val_accuracy : 62.0\n",
            "Validation loss decreased (0.735412 --> 0.648107).  Saving model ...\n",
            "==================================================\n",
            "Epoch 3\n",
            "train_loss : 0.6304716308911641 val_loss : 0.6035121798515319\n",
            "train_accuracy : 66.4 val_accuracy : 66.4\n",
            "Validation loss decreased (0.648107 --> 0.603512).  Saving model ...\n",
            "==================================================\n",
            "Epoch 4\n",
            "train_loss : 0.6897599200407664 val_loss : 0.5823210597038269\n",
            "train_accuracy : 69.73333333333333 val_accuracy : 68.8\n",
            "Validation loss decreased (0.603512 --> 0.582321).  Saving model ...\n",
            "==================================================\n",
            "Epoch 5\n",
            "train_loss : 0.5250455697377523 val_loss : 0.546500438451767\n",
            "train_accuracy : 72.53333333333333 val_accuracy : 74.4\n",
            "Validation loss decreased (0.582321 --> 0.546500).  Saving model ...\n",
            "==================================================\n",
            "Epoch 6\n",
            "train_loss : 0.46386802991231285 val_loss : 0.6379536032676697\n",
            "train_accuracy : 78.8 val_accuracy : 61.199999999999996\n",
            "==================================================\n",
            "Epoch 7\n",
            "train_loss : 0.4331176559130351 val_loss : 0.5666369140148163\n",
            "train_accuracy : 79.2 val_accuracy : 73.2\n",
            "==================================================\n",
            "Epoch 8\n",
            "train_loss : 0.383549032608668 val_loss : 0.5938470900058747\n",
            "train_accuracy : 83.46666666666667 val_accuracy : 75.6\n",
            "==================================================\n",
            "Epoch 9\n",
            "train_loss : 0.35028035442034405 val_loss : 0.6058616757392883\n",
            "train_accuracy : 85.6 val_accuracy : 74.4\n",
            "==================================================\n",
            "Epoch 10\n",
            "train_loss : 0.3387377103169759 val_loss : 0.5810038983821869\n",
            "train_accuracy : 85.73333333333333 val_accuracy : 74.4\n",
            "==================================================\n"
          ],
          "name": "stdout"
        }
      ]
    },
    {
      "cell_type": "code",
      "metadata": {
        "colab": {
          "base_uri": "https://localhost:8080/",
          "height": 225
        },
        "id": "uQ_VS0stUG42",
        "outputId": "00b16e86-6a47-4d21-ade6-805434fdac2c"
      },
      "source": [
        "fig = plt.figure(figsize = (20, 6))\n",
        "plt.subplot(1, 2, 1)\n",
        "plt.plot(epoch_tr_acc, label='Train Acc')\n",
        "plt.plot(epoch_vl_acc, label='Validation Acc')\n",
        "plt.title(\"Accuracy\")\n",
        "plt.legend()\n",
        "plt.grid()\n",
        "    \n",
        "plt.subplot(1, 2, 2)\n",
        "plt.plot(epoch_tr_loss, label='Train loss')\n",
        "plt.plot(epoch_vl_loss, label='Validation loss')\n",
        "plt.title(\"Loss\")\n",
        "plt.legend()\n",
        "plt.grid()\n",
        "\n",
        "plt.show()"
      ],
      "execution_count": 27,
      "outputs": [
        {
          "output_type": "display_data",
          "data": {
            "image/png": "[encoded data removed]",
            "text/plain": [
              "<Figure size 1440x432 with 2 Axes>"
            ]
          },
          "metadata": {
            "tags": [],
            "needs_background": "light"
          }
        }
      ]
    },
    {
      "cell_type": "code",
      "metadata": {
        "id": "ZjFt7rMXUUnU"
      },
      "source": [
        ""
      ],
      "execution_count": null,
      "outputs": []
    },
    {
      "cell_type": "markdown",
      "metadata": {
        "id": "2C6MeR7FUZ8_"
      },
      "source": [
        "# Sequence Model"
      ]
    },
    {
      "cell_type": "code",
      "metadata": {
        "id": "u34IeNTeUUva"
      },
      "source": [
        ""
      ],
      "execution_count": null,
      "outputs": []
    },
    {
      "cell_type": "code",
      "metadata": {
        "id": "cNIK1VIfUUxQ"
      },
      "source": [
        ""
      ],
      "execution_count": null,
      "outputs": []
    },
    {
      "cell_type": "code",
      "metadata": {
        "id": "4PWj-TYgUUzU"
      },
      "source": [
        ""
      ],
      "execution_count": null,
      "outputs": []
    },
    {
      "cell_type": "code",
      "metadata": {
        "id": "uEY_19K3UG7c"
      },
      "source": [
        ""
      ],
      "execution_count": null,
      "outputs": []
    },
    {
      "cell_type": "markdown",
      "metadata": {
        "id": "6MZ8lBAzgH38"
      },
      "source": [
        "### Inferance"
      ]
    },
    {
      "cell_type": "code",
      "metadata": {
        "id": "g29_Su0dgH38"
      },
      "source": [
        "def predict_text(text):\n",
        "        word_seq = np.array([vocab[preprocess_string(word)] for word in text.split() \n",
        "                         if preprocess_string(word) in vocab.keys()])\n",
        "        word_seq = np.expand_dims(word_seq,axis=0)\n",
        "        pad =  torch.from_numpy(padding_(word_seq,500))\n",
        "        inputs = pad.to(device)\n",
        "        batch_size = 1\n",
        "        h = model.init_hidden(batch_size)\n",
        "        h = tuple([each.data for each in h])\n",
        "        output, h = model(inputs, h)\n",
        "        return(output.item())"
      ],
      "execution_count": null,
      "outputs": []
    },
    {
      "cell_type": "code",
      "metadata": {
        "colab": {
          "base_uri": "https://localhost:8080/"
        },
        "id": "G14PVT7GgH38",
        "outputId": "e333acee-655e-456b-d633-a473f8551bfd"
      },
      "source": [
        "\n",
        "index = 265\n",
        "print(df['review'][index])\n",
        "\n",
        "print('='*70)\n",
        "print(f'Actual sentiment is  : {df[\"sentiment\"][index]}')\n",
        "print('='*70)\n",
        "pro = predict_text(df['review'][index])\n",
        "status = \"positive\" if pro > 0.5 else \"negative\"\n",
        "pro = (1 - pro) if status == \"negative\" else pro\n",
        "print(f'Predicted sentiment is {status} with a probability of {pro}')"
      ],
      "execution_count": null,
      "outputs": [
        {
          "output_type": "stream",
          "text": [
            " i can relate to sail cuz when i be a kid i be diagnose with add bipolar disorder and depression and that be why i toke i be go to mention sail dub step another good one thanks for that shout out e3unite yup that too  pokérigs towelie mini rig oklahoma house vote 98 to 2 to allow use of cannabis extract for epilepsy false the only thing that suck about weed be when you dont have any you know what suck about weed absolutely nothing it all good dont fear the reefer stonernation stonerfamily i just have tunein glitch crazy the show and music be speed up and sound like chipmunk talk i fix it tho the sweet leaf remix a need a blunt in them tho reddlr tree do it again 300g slab of shatter that song playing now be bomb a fuck tho love it didnt get as many a i want to but have quite a few for today show edm dub plur tuneintokeup ive sat here smoke 2 joint and a couple bong hit feel a bit well love that song weedcrushwednesday wcw i definitely read to that to beat of marble floor by rick ross gotcho bitch whippin scramble egg medical marijuana aid die pet back to health individual report gov wolf meeting with family advocate for medical marijuana legalization for those suffer from illness pagov ht it pain me that anybodyis not get the treatment he or she need gov wolf discus medicalcannabis htt im listen to on realradio good music you have to be odd to be number one dr seuss this change me rt if you get an iphone it be about time that the commonwealth realize what it be miss out on and move forward with cannabislegalization alcohol kill cannabis chill bestsportvine_ kevin hart bestsportvine_ dunk of the decade thank you if you know anyone else who enjoy cannabis let them know much love angie pottle definitely bookmarking your site so many awesome product awesome im gonna check that out you mention your show be it an online thing where i can watch online im on your website right now check you out im like what im see my husband and i be just try to find a smell proof container for herbs thanks baggiesaretrashy protectyourpot w that be awesome youre welcome   there be quite few good rhcp dubstep remixes  it dani california i get the name wrong dammit californication by the red hot chili pepper hey mom i need some lunch money   the ban social cannabis apps this harm legal mj patient amp biz rt to demand apple change this policy htt lt3 weed 420 more fact show alcohol be more harmful than marijuana newmexico senate historically pass a recreational marijuana bill be go a bit heres a crunchy bud from walkin happy weedporn portland http  so happy to get all the clutter off my feed now back to the mainstream shit stonerfamily no chill cannacity_ awesome huh cannacity_ you have my zong for sale i be wonder where the shop i buy this from get his glass and now i know i love thing so much this be what i think of your brother in law im about to unfollow all these page that sneak app urls into tweet that be like pique my interest with boob and as valentine day alentines day lentines day entines day ntines day tine day ines day ne day es day s day day ay ayyy ayyy my first time i felt that i have fur and could feel it move when i move it be amaze when you get high a fuck for the first time to my future kid if i find weed in your room im smoking it bulbasaur hit a bulba blunt smoke weed be like hit lifes hd button yeah mom be just chill i remember when i say i be never go to smoke weed do you smoke non smoker no smoker yes weed smoker smoke what wake n bake have me feelin like be put on blast and im loving every bit of it yo im really happy for you and im gonna let you finish but i have the best leaked nude you think because ur dad be a professional football player that get away with murder ur well than me girl haaaaannnnn nghtyamerica amazingloveqote but thats a scene from one of the piranha movie retweet if youd sleep in this bed amber rise be that bitch look like a dank strawberry comment one word to describe the outer space strain comfytree leafly comfyway and why be cannabis still consider a schedule i drug legalize cannabis comfytree would you speak this cannabis comfytreecannabis ooooh be hold a cannabis convention in dc oh my fuck yes im make plan on be there cant wait my favorite thing to do after smoke a blunt be to smoke another blunt i be have bipolar moment like  when you get homework over vacation so pretty where i use to live it be more like a 14 mile rt  for the east fav for the west  nbatipoff this store know whats up i wish i could smoke a big fat blunt with all my follower thanks for follow me i just order some seed will do a review of ship ease of order process and the grow then the smoke happy friday seedsman buy some cannabisseeds and tell them i send you with my ref code we all benefit with loyalty point and discount smart financial decision homie ive drift in a dodge ram with an 8 foot bed it not that hard my childhood pet be a solid black cat and i live in a house that someone die in no superstition here i find superstitious people funny i have break a couple of mirror in my life and ive walk under ladder nothing how to win an argument i have to work tomorrow gonna hit up a coworker tho i heard he have some dank  over 100 follower may not seem like a lot to some but it a milestone to me i may celebrate it tomorrow this one brownie contain 20 gram of cannabis dear people who decide cannabis should be illegal you suck marijuana go well with everything i dont understand how people who come home from work and have a couple of beer can criticize people who come home fro it thing like this that make me happyjar weed marijuana stoner happy sit back relax and feel alright weed stonernation  fuck you i want to get high with all of you it an odd thing when people find out you use cannabis like be suppose to be zone out zombie instead of kind an legalize lta check out this dope cheechandchong van someone bring to s booth via i wonder if im the only one who add them up to make sure they equal flathead lake clear water on earth lil wayne be like one state to the north i live about 15 minute into pennsylvania from maryland i could go for a nice fat blunt right about now the drgreenthumb with his award at the 2015 cannabiscup smokelikecypresshill womancrushwednesday  redlinejdm_ jdm lifestyle 4stoner2homer0 you know youre an american stoner when you think about how much weed you can buy with your tax return mcdonalds kill more people than weed shame on them new york medicinal cannabis legalisation plan to exclude poor patient rt if youd hit it truth so excited my hubby say we can get some weed on friday weed girlswhosmoke 420 cantwaittogethigh do anyone have any experience with yield lab product for plant grow like their light system and such thing rt if you could go for this right now ice cream that get you high plot twist the munchies get you high when able to you should start a chain of them have one in washington dc wait where be your booty at my fortune good than me at 24 how do she look so good at 44 get some free doitlikeitslegal sticker email free twitter sticker and your address to infodecsandlondoncom those wonderful west coast winter view vancouver westvan whytecliffpark winter ocean nature that face  3rd place best topical sextiva vaginal sexual enhancement oil by innovative extraction cannabiscupsocal sextiva 2nd place best hybridflower orange cooky by tlc collective cannabiscupsocal tlccollective 1st place best hybridflower wellness og by the weed in studio city cannabiscupsocal 3rd place best indicaflower dr ks paris og kush by cali natural collective cannabiscupsocal calinaturalcollective 2nd place best indicaflower lorax og by lorax lab from cannasutra collective cannabiscupsocal loraxlabs 1st place best indicaflower kosher kush by greenwolf la with kush company cannabiscupsocal kushcompany 1st place best indicaflower kosher kush by greenwolf la with kush company cannabiscupsocal kushcompany 3rd place best sativaflower tangie by dr greenthumb cannabiscupsocal drgreenthumb 2nd place best sativaflower loud berry flower by loud seed sl cannabiscupsocal loudseeds 1st place best sativaflower mango tango by elemental seed cannabiscupsocal mood  weed  pizza  netflix all of the above oh my fuck thatbagofbudtho  fuck a hater theyre just peanut butter and jealous theyhateuscausetheyaintus i always make sure to follow back cause im just cool a fuck like that cannacitypromo 16 dual honeycomb 8 arm perk water pipe 13999 but that doesnt even make sense to me because those be playstation button not xbox button every toker should make this their header image in support of cannabis legalize rick ross smoke halfpound blunt in the shape of a champagne bottle on stage pass it to the crowd new comedy show earn fund amp aim to normalize marijuana smoke burn gold ismokeloud 420 stonernation kusharmy maryjane ganja cannibus bud weshouldsmoke your eye sparkle like weed nugget at the end of the day it be what it be marijuana be create from the dry shredded flower and leaf of the hemp plant cannabis sativa also cannabis indica oh my fuck i must find one and buy it i be really hop you would i be like your selection stonervlne oh my fuck just find a regular seed have pop and it 14 day after it be put in the propagator to germinate thing to do when it snowing marijuana do you ship to the usa i know some seedbanks wont ship to u so i be just wonder yea they be very naughty but it wouldnt have happen if the door be lock like it suppose to be let see if this grow can be the first one 2 be complete with no grow end tragedy the most terrible part be wait for them 2 finish i have a cat that do that before topped my plant i be so upset that it eat some of it but then the plant grow like crazy _theweedman_ valentine day goal my cat ate 11 baby 5 northern light auto fems and 6 regular they be already in the ground and about 34 inch up i have some unknown regular seed from nirvana seedbank grow i do have some northern light but my cat eat the plant so beautiful so frosty   wtf moment still scratch my head on this one unitedwesmoke unitedwefight norml legalizecannabis weed pot http would love to smoke pound of weed with all my follower onelove stonernation i wish i could move there it warmer and the weed be plentiful i do too i really want to attend a cannabiscup but cali and colorado be a bit too far away eastcoastissues since the recent legalization of cannabis in dc will there ever be a cannabiscup there need a vacation marijuana be decriminalize in the u virgin island the 5 healthy city in america be marijuana friendly he probably wasnt pay attention to the part of the video that say do it in a well ventilated area when you hit the blunt and you think you could be real about it federal judge rule could affect marijuanas classification a schedule 1 drug pres think more state will legalize marijuana want justice system reform seven state that be next in line to legalize marijuana obama budget would let dc proceed with pot legalization sale u surgeon general vivek murthy say marijuana can be helpful for some medical condition and it not even allow in smokable form check out these sick pipe we find at here be a link pennsylvania have a terrible cannabis law be propose as well only a few select condition and one strain be allow best candy bar in existence potheadpal pennsylvanias new governor tom wolf be procannabis any tip for a first time dabber i havent try dab yet but i want to start anything i should be aware of my first time carlymsylvia i once have a guy on facebook replace nicki with my name dude have a serious crush on me oh my fuck i love your youtube video i wish i could fly to cali and smoke with you eastcoastissues fuck me my cat eat my northern light plant all 5 of them\n",
            "======================================================================\n",
            "Actual sentiment is  : positive\n",
            "======================================================================\n",
            "Predicted sentiment is positive with a probability of 0.75898277759552\n"
          ],
          "name": "stdout"
        }
      ]
    },
    {
      "cell_type": "markdown",
      "metadata": {
        "id": "VmSUsQZmgH39"
      },
      "source": [
        "Some improvement suggestions are as follow:\n",
        "\n",
        "* Running a hyperparameter search to optimize your configurations.\n",
        "* Using pretraned word embeddings like Glove word embeddings\n",
        "* Increasing the model complexity like adding more layers/ using bidirectional LSTMs\n"
      ]
    }
  ]
}